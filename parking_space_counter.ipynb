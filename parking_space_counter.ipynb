{
 "cells": [
  {
   "cell_type": "code",
   "execution_count": 1,
   "id": "c8ce6408",
   "metadata": {
    "id": "c8ce6408"
   },
   "outputs": [],
   "source": [
    "# Importing the libraries\n",
    "\n",
    "import cv2\n",
    "import pickle\n",
    "import cvzone\n",
    "import numpy as np"
   ]
  },
  {
   "cell_type": "code",
   "execution_count": 2,
   "id": "ad7d0b73",
   "metadata": {
    "id": "ad7d0b73"
   },
   "outputs": [],
   "source": [
    "# Width and height of individual parking lot\n",
    "width, height = 105, 47\n",
    "\n",
    "# Checking if file CarParkPos is present else initialise posList as an empty list\n",
    "try:\n",
    "    with open(\"CarParkPos\", 'rb') as f:\n",
    "        posList = pickle.load(f)\n",
    "except:\n",
    "    posList = []\n",
    "\n",
    "# function to perform different operations based on the mouse clicks\n",
    "def mouseClick(events, x, y, flags, params):\n",
    "    if events == cv2.EVENT_LBUTTONDOWN: # mouseClick - left button(add coordinate points to the posList)\n",
    "        posList.append((x,y))\n",
    "\n",
    "    if events == cv2.EVENT_RBUTTONDOWN: # mouseClick - right button(remove the box by poping the points from the posList)\n",
    "        for i, pos in enumerate(posList):\n",
    "            x1,y1 = pos\n",
    "            if x1<x<x1+width and y1<y<y1+height:\n",
    "                posList.pop(i)\n",
    "\n",
    "    # Saving the coordinate points in CarParkPos file\n",
    "    with open(\"CarParkPos\", 'wb') as f:\n",
    "        pickle.dump(posList, f)\n",
    "\n",
    "while True:\n",
    "    # Reading the image\n",
    "    img = cv2.imread(\"carParkImg.png\")\n",
    "\n",
    "    # draw the boxes for the individual parking lot\n",
    "    for pos in posList:\n",
    "        cv2.rectangle(img, pos, (pos[0]+width, pos[1]+height), (255,0,255), 2)\n",
    "\n",
    "    # Display the image\n",
    "    cv2.imshow(\"Image\", img)\n",
    "    cv2.setMouseCallback(\"Image\", mouseClick)\n",
    "    cv2.waitKey(1)\n",
    "\n",
    "    key = cv2.waitKey(1) & 0xFF\n",
    "    if key == 27:  # ASCII code for 'ESC' key\n",
    "        break\n",
    "\n",
    "cv2.destroyAllWindows()"
   ]
  },
  {
   "cell_type": "code",
   "execution_count": 3,
   "id": "a220b44e",
   "metadata": {
    "id": "a220b44e"
   },
   "outputs": [],
   "source": [
    "# Capture the video\n",
    "cap = cv2.VideoCapture(\"carPark.mp4\")\n",
    "\n",
    "# Load the CarParkPos file\n",
    "with open(\"CarParkPos\", 'rb') as f:\n",
    "        posList = pickle.load(f)\n",
    "\n",
    "width, height = 105, 47\n",
    "\n",
    "\n",
    "def checkParkingSpace(imgPro):\n",
    "    spaceCounter = 0\n",
    "    for pos in posList:\n",
    "        x,y = pos\n",
    "        imgCrop = imgPro[y:y+height, x:x+width] # Cropping the image\n",
    "#         cv2.imshow(str(x*y), imgCrop)\n",
    "        count = cv2.countNonZero(imgCrop) # Counting the non zero pixels\n",
    "\n",
    "        if count < 900: # if count<900: parking available else parking occupied\n",
    "            color =(0, 255, 0)\n",
    "            thickness = 5\n",
    "            spaceCounter += 1\n",
    "        else:\n",
    "            color = (0, 0, 255)\n",
    "            thickness = 2\n",
    "\n",
    "        cv2.rectangle(img, pos, (pos[0]+width, pos[1]+height), color, thickness) # Drawing the rect for each parking lot\n",
    "        cvzone.putTextRect(img, str(count), (x,y+height-3), scale=1, offset=0, thickness=2, colorR=color) # text to display the number of non zero pixels\n",
    "    cvzone.putTextRect(img, f'Free: {spaceCounter}/{len(posList)}', (100,50), scale=3, offset=20, thickness=5, colorR=(0,200,0)) # text to display free space\n",
    "\n",
    "while True:\n",
    "    if cap.get(cv2.CAP_PROP_POS_FRAMES) == cap.get(cv2.CAP_PROP_FRAME_COUNT): # setting the frames to 0 to loop the video \n",
    "        cap.set(cv2.CAP_PROP_POS_FRAMES,0)\n",
    "\n",
    "    success, img = cap.read()\n",
    "    \n",
    "    # image preprocessing\n",
    "    imgGray = cv2.cvtColor(img, cv2.COLOR_BGR2GRAY)\n",
    "    imgBlur = cv2.GaussianBlur(imgGray, (3,3), 1)\n",
    "    imgThreshold = cv2.adaptiveThreshold(imgBlur, 255, cv2.ADAPTIVE_THRESH_GAUSSIAN_C, cv2.THRESH_BINARY_INV, 25, 16)\n",
    "    imgMedian = cv2.medianBlur(imgThreshold, 5)\n",
    "    kernel = np.ones((3,3), np.uint8)\n",
    "    imgDilate = cv2.dilate(imgMedian, kernel, iterations=1)\n",
    "\n",
    "    checkParkingSpace(imgDilate)\n",
    "\n",
    "    cv2.imshow(\"Image\", img)\n",
    "#     cv2.imshow(\"Image Blur\", imgBlur)\n",
    "#     cv2.imshow(\"Image Thresh\", imgThreshold)\n",
    "#     cv2.imshow(\"Image Median Blur\", imgMedian)\n",
    "#     cv2.imshow(\"Image Dilate\", imgDilate)\n",
    "    cv2.waitKey(1)\n",
    "\n",
    "    key = cv2.waitKey(1) & 0xFF\n",
    "    if key == 27:  # ASCII code for 'ESC' key\n",
    "        break\n",
    "\n",
    "cv2.destroyAllWindows()"
   ]
  },
  {
   "cell_type": "code",
   "execution_count": null,
   "id": "97926c35",
   "metadata": {
    "id": "97926c35"
   },
   "outputs": [],
   "source": []
  }
 ],
 "metadata": {
  "colab": {
   "provenance": []
  },
  "kernelspec": {
   "display_name": "Python 3 (ipykernel)",
   "language": "python",
   "name": "python3"
  },
  "language_info": {
   "codemirror_mode": {
    "name": "ipython",
    "version": 3
   },
   "file_extension": ".py",
   "mimetype": "text/x-python",
   "name": "python",
   "nbconvert_exporter": "python",
   "pygments_lexer": "ipython3",
   "version": "3.11.5"
  }
 },
 "nbformat": 4,
 "nbformat_minor": 5
}
